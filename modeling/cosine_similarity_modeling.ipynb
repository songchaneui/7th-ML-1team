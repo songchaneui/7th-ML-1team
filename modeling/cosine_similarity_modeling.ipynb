{
  "nbformat": 4,
  "nbformat_minor": 0,
  "metadata": {
    "colab": {
      "provenance": []
    },
    "kernelspec": {
      "name": "python3",
      "display_name": "Python 3"
    },
    "language_info": {
      "name": "python"
    }
  },
  "cells": [
    {
      "cell_type": "code",
      "execution_count": null,
      "metadata": {
        "id": "94mD96QFPtqY"
      },
      "outputs": [],
      "source": [
        "keyword = input(\"궁금하신 분야의 키워드를 입력해주세요! : \")\n",
        "print(\"입력하신 키워드는 \",keyword,\" 입니다. \\n해당 키워드로 면접 질문을 탐색합니다.\")"
      ]
    },
    {
      "cell_type": "markdown",
      "source": [
        "# 원래 데이터 가져와서 전처리"
      ],
      "metadata": {
        "id": "m5h88epuRjNB"
      }
    },
    {
      "cell_type": "code",
      "source": [
        "import pandas as pd\n",
        "def get_df(file): #파일명을 입력값으로 받는다.\n",
        "    interview_data=pd.read_excel(file)\n",
        "    return interview_data"
      ],
      "metadata": {
        "id": "biGl-bATQ59x"
      },
      "execution_count": null,
      "outputs": []
    },
    {
      "cell_type": "code",
      "source": [
        "import pandas as pd\n",
        "interview_data=get_df('/content/drive/MyDrive/Colab Notebooks/KHUDA_7th_YB_ToyProject/data/merged_interniew_category.xlsx')\n",
        "interview_data  #증강 + 메인 데이터셋"
      ],
      "metadata": {
        "colab": {
          "base_uri": "https://localhost:8080/",
          "height": 424
        },
        "id": "8iAlR1WoRlpj",
        "outputId": "7930d4cd-f760-4c84-a203-9bfc19c6185e"
      },
      "execution_count": null,
      "outputs": [
        {
          "output_type": "execute_result",
          "data": {
            "text/plain": [
              "                                               Question Category\n",
              "0     A/B Test 등 현상 분석 및 실험 설계 상 통계적으로 유의미함의 여부를 결정하...  데이터 분석가\n",
              "1                                Agile 방법론이 무엇인지 설명해주세요  데이터 분석가\n",
              "2                                 Bias를 통제하는 방법은 무엇입니까?  데이터 분석가\n",
              "3                           Java에서 Builder 패턴을 사용하는이유는?  데이터 분석가\n",
              "4                          Java에서 팩토리 메서드 패턴을 사용하는 이유는?  데이터 분석가\n",
              "...                                                 ...      ...\n",
              "2901                      Event Delegation에 대해 설명해주십시오.    프론트엔드\n",
              "2902                                    PWA에 대해 말씀해주세요.    프론트엔드\n",
              "2903                            웹 저장소의 종류와 특징을 설명해 보세요.    프론트엔드\n",
              "2904                                   웹 워커에 대해서 말해주세요.    프론트엔드\n",
              "2905                                 웹 컴포넌트에 대해 말씀해주세요.    프론트엔드\n",
              "\n",
              "[2906 rows x 2 columns]"
            ],
            "text/html": [
              "\n",
              "  <div id=\"df-db1fa286-7ef5-41db-bc55-5f9e912db0df\" class=\"colab-df-container\">\n",
              "    <div>\n",
              "<style scoped>\n",
              "    .dataframe tbody tr th:only-of-type {\n",
              "        vertical-align: middle;\n",
              "    }\n",
              "\n",
              "    .dataframe tbody tr th {\n",
              "        vertical-align: top;\n",
              "    }\n",
              "\n",
              "    .dataframe thead th {\n",
              "        text-align: right;\n",
              "    }\n",
              "</style>\n",
              "<table border=\"1\" class=\"dataframe\">\n",
              "  <thead>\n",
              "    <tr style=\"text-align: right;\">\n",
              "      <th></th>\n",
              "      <th>Question</th>\n",
              "      <th>Category</th>\n",
              "    </tr>\n",
              "  </thead>\n",
              "  <tbody>\n",
              "    <tr>\n",
              "      <th>0</th>\n",
              "      <td>A/B Test 등 현상 분석 및 실험 설계 상 통계적으로 유의미함의 여부를 결정하...</td>\n",
              "      <td>데이터 분석가</td>\n",
              "    </tr>\n",
              "    <tr>\n",
              "      <th>1</th>\n",
              "      <td>Agile 방법론이 무엇인지 설명해주세요</td>\n",
              "      <td>데이터 분석가</td>\n",
              "    </tr>\n",
              "    <tr>\n",
              "      <th>2</th>\n",
              "      <td>Bias를 통제하는 방법은 무엇입니까?</td>\n",
              "      <td>데이터 분석가</td>\n",
              "    </tr>\n",
              "    <tr>\n",
              "      <th>3</th>\n",
              "      <td>Java에서 Builder 패턴을 사용하는이유는?</td>\n",
              "      <td>데이터 분석가</td>\n",
              "    </tr>\n",
              "    <tr>\n",
              "      <th>4</th>\n",
              "      <td>Java에서 팩토리 메서드 패턴을 사용하는 이유는?</td>\n",
              "      <td>데이터 분석가</td>\n",
              "    </tr>\n",
              "    <tr>\n",
              "      <th>...</th>\n",
              "      <td>...</td>\n",
              "      <td>...</td>\n",
              "    </tr>\n",
              "    <tr>\n",
              "      <th>2901</th>\n",
              "      <td>Event Delegation에 대해 설명해주십시오.</td>\n",
              "      <td>프론트엔드</td>\n",
              "    </tr>\n",
              "    <tr>\n",
              "      <th>2902</th>\n",
              "      <td>PWA에 대해 말씀해주세요.</td>\n",
              "      <td>프론트엔드</td>\n",
              "    </tr>\n",
              "    <tr>\n",
              "      <th>2903</th>\n",
              "      <td>웹 저장소의 종류와 특징을 설명해 보세요.</td>\n",
              "      <td>프론트엔드</td>\n",
              "    </tr>\n",
              "    <tr>\n",
              "      <th>2904</th>\n",
              "      <td>웹 워커에 대해서 말해주세요.</td>\n",
              "      <td>프론트엔드</td>\n",
              "    </tr>\n",
              "    <tr>\n",
              "      <th>2905</th>\n",
              "      <td>웹 컴포넌트에 대해 말씀해주세요.</td>\n",
              "      <td>프론트엔드</td>\n",
              "    </tr>\n",
              "  </tbody>\n",
              "</table>\n",
              "<p>2906 rows × 2 columns</p>\n",
              "</div>\n",
              "    <div class=\"colab-df-buttons\">\n",
              "\n",
              "  <div class=\"colab-df-container\">\n",
              "    <button class=\"colab-df-convert\" onclick=\"convertToInteractive('df-db1fa286-7ef5-41db-bc55-5f9e912db0df')\"\n",
              "            title=\"Convert this dataframe to an interactive table.\"\n",
              "            style=\"display:none;\">\n",
              "\n",
              "  <svg xmlns=\"http://www.w3.org/2000/svg\" height=\"24px\" viewBox=\"0 -960 960 960\">\n",
              "    <path d=\"M120-120v-720h720v720H120Zm60-500h600v-160H180v160Zm220 220h160v-160H400v160Zm0 220h160v-160H400v160ZM180-400h160v-160H180v160Zm440 0h160v-160H620v160ZM180-180h160v-160H180v160Zm440 0h160v-160H620v160Z\"/>\n",
              "  </svg>\n",
              "    </button>\n",
              "\n",
              "  <style>\n",
              "    .colab-df-container {\n",
              "      display:flex;\n",
              "      gap: 12px;\n",
              "    }\n",
              "\n",
              "    .colab-df-convert {\n",
              "      background-color: #E8F0FE;\n",
              "      border: none;\n",
              "      border-radius: 50%;\n",
              "      cursor: pointer;\n",
              "      display: none;\n",
              "      fill: #1967D2;\n",
              "      height: 32px;\n",
              "      padding: 0 0 0 0;\n",
              "      width: 32px;\n",
              "    }\n",
              "\n",
              "    .colab-df-convert:hover {\n",
              "      background-color: #E2EBFA;\n",
              "      box-shadow: 0px 1px 2px rgba(60, 64, 67, 0.3), 0px 1px 3px 1px rgba(60, 64, 67, 0.15);\n",
              "      fill: #174EA6;\n",
              "    }\n",
              "\n",
              "    .colab-df-buttons div {\n",
              "      margin-bottom: 4px;\n",
              "    }\n",
              "\n",
              "    [theme=dark] .colab-df-convert {\n",
              "      background-color: #3B4455;\n",
              "      fill: #D2E3FC;\n",
              "    }\n",
              "\n",
              "    [theme=dark] .colab-df-convert:hover {\n",
              "      background-color: #434B5C;\n",
              "      box-shadow: 0px 1px 3px 1px rgba(0, 0, 0, 0.15);\n",
              "      filter: drop-shadow(0px 1px 2px rgba(0, 0, 0, 0.3));\n",
              "      fill: #FFFFFF;\n",
              "    }\n",
              "  </style>\n",
              "\n",
              "    <script>\n",
              "      const buttonEl =\n",
              "        document.querySelector('#df-db1fa286-7ef5-41db-bc55-5f9e912db0df button.colab-df-convert');\n",
              "      buttonEl.style.display =\n",
              "        google.colab.kernel.accessAllowed ? 'block' : 'none';\n",
              "\n",
              "      async function convertToInteractive(key) {\n",
              "        const element = document.querySelector('#df-db1fa286-7ef5-41db-bc55-5f9e912db0df');\n",
              "        const dataTable =\n",
              "          await google.colab.kernel.invokeFunction('convertToInteractive',\n",
              "                                                    [key], {});\n",
              "        if (!dataTable) return;\n",
              "\n",
              "        const docLinkHtml = 'Like what you see? Visit the ' +\n",
              "          '<a target=\"_blank\" href=https://colab.research.google.com/notebooks/data_table.ipynb>data table notebook</a>'\n",
              "          + ' to learn more about interactive tables.';\n",
              "        element.innerHTML = '';\n",
              "        dataTable['output_type'] = 'display_data';\n",
              "        await google.colab.output.renderOutput(dataTable, element);\n",
              "        const docLink = document.createElement('div');\n",
              "        docLink.innerHTML = docLinkHtml;\n",
              "        element.appendChild(docLink);\n",
              "      }\n",
              "    </script>\n",
              "  </div>\n",
              "\n",
              "\n",
              "<div id=\"df-9f81ff6b-dc80-4d24-a922-be9122eacb6b\">\n",
              "  <button class=\"colab-df-quickchart\" onclick=\"quickchart('df-9f81ff6b-dc80-4d24-a922-be9122eacb6b')\"\n",
              "            title=\"Suggest charts\"\n",
              "            style=\"display:none;\">\n",
              "\n",
              "<svg xmlns=\"http://www.w3.org/2000/svg\" height=\"24px\"viewBox=\"0 0 24 24\"\n",
              "     width=\"24px\">\n",
              "    <g>\n",
              "        <path d=\"M19 3H5c-1.1 0-2 .9-2 2v14c0 1.1.9 2 2 2h14c1.1 0 2-.9 2-2V5c0-1.1-.9-2-2-2zM9 17H7v-7h2v7zm4 0h-2V7h2v10zm4 0h-2v-4h2v4z\"/>\n",
              "    </g>\n",
              "</svg>\n",
              "  </button>\n",
              "\n",
              "<style>\n",
              "  .colab-df-quickchart {\n",
              "      --bg-color: #E8F0FE;\n",
              "      --fill-color: #1967D2;\n",
              "      --hover-bg-color: #E2EBFA;\n",
              "      --hover-fill-color: #174EA6;\n",
              "      --disabled-fill-color: #AAA;\n",
              "      --disabled-bg-color: #DDD;\n",
              "  }\n",
              "\n",
              "  [theme=dark] .colab-df-quickchart {\n",
              "      --bg-color: #3B4455;\n",
              "      --fill-color: #D2E3FC;\n",
              "      --hover-bg-color: #434B5C;\n",
              "      --hover-fill-color: #FFFFFF;\n",
              "      --disabled-bg-color: #3B4455;\n",
              "      --disabled-fill-color: #666;\n",
              "  }\n",
              "\n",
              "  .colab-df-quickchart {\n",
              "    background-color: var(--bg-color);\n",
              "    border: none;\n",
              "    border-radius: 50%;\n",
              "    cursor: pointer;\n",
              "    display: none;\n",
              "    fill: var(--fill-color);\n",
              "    height: 32px;\n",
              "    padding: 0;\n",
              "    width: 32px;\n",
              "  }\n",
              "\n",
              "  .colab-df-quickchart:hover {\n",
              "    background-color: var(--hover-bg-color);\n",
              "    box-shadow: 0 1px 2px rgba(60, 64, 67, 0.3), 0 1px 3px 1px rgba(60, 64, 67, 0.15);\n",
              "    fill: var(--button-hover-fill-color);\n",
              "  }\n",
              "\n",
              "  .colab-df-quickchart-complete:disabled,\n",
              "  .colab-df-quickchart-complete:disabled:hover {\n",
              "    background-color: var(--disabled-bg-color);\n",
              "    fill: var(--disabled-fill-color);\n",
              "    box-shadow: none;\n",
              "  }\n",
              "\n",
              "  .colab-df-spinner {\n",
              "    border: 2px solid var(--fill-color);\n",
              "    border-color: transparent;\n",
              "    border-bottom-color: var(--fill-color);\n",
              "    animation:\n",
              "      spin 1s steps(1) infinite;\n",
              "  }\n",
              "\n",
              "  @keyframes spin {\n",
              "    0% {\n",
              "      border-color: transparent;\n",
              "      border-bottom-color: var(--fill-color);\n",
              "      border-left-color: var(--fill-color);\n",
              "    }\n",
              "    20% {\n",
              "      border-color: transparent;\n",
              "      border-left-color: var(--fill-color);\n",
              "      border-top-color: var(--fill-color);\n",
              "    }\n",
              "    30% {\n",
              "      border-color: transparent;\n",
              "      border-left-color: var(--fill-color);\n",
              "      border-top-color: var(--fill-color);\n",
              "      border-right-color: var(--fill-color);\n",
              "    }\n",
              "    40% {\n",
              "      border-color: transparent;\n",
              "      border-right-color: var(--fill-color);\n",
              "      border-top-color: var(--fill-color);\n",
              "    }\n",
              "    60% {\n",
              "      border-color: transparent;\n",
              "      border-right-color: var(--fill-color);\n",
              "    }\n",
              "    80% {\n",
              "      border-color: transparent;\n",
              "      border-right-color: var(--fill-color);\n",
              "      border-bottom-color: var(--fill-color);\n",
              "    }\n",
              "    90% {\n",
              "      border-color: transparent;\n",
              "      border-bottom-color: var(--fill-color);\n",
              "    }\n",
              "  }\n",
              "</style>\n",
              "\n",
              "  <script>\n",
              "    async function quickchart(key) {\n",
              "      const quickchartButtonEl =\n",
              "        document.querySelector('#' + key + ' button');\n",
              "      quickchartButtonEl.disabled = true;  // To prevent multiple clicks.\n",
              "      quickchartButtonEl.classList.add('colab-df-spinner');\n",
              "      try {\n",
              "        const charts = await google.colab.kernel.invokeFunction(\n",
              "            'suggestCharts', [key], {});\n",
              "      } catch (error) {\n",
              "        console.error('Error during call to suggestCharts:', error);\n",
              "      }\n",
              "      quickchartButtonEl.classList.remove('colab-df-spinner');\n",
              "      quickchartButtonEl.classList.add('colab-df-quickchart-complete');\n",
              "    }\n",
              "    (() => {\n",
              "      let quickchartButtonEl =\n",
              "        document.querySelector('#df-9f81ff6b-dc80-4d24-a922-be9122eacb6b button');\n",
              "      quickchartButtonEl.style.display =\n",
              "        google.colab.kernel.accessAllowed ? 'block' : 'none';\n",
              "    })();\n",
              "  </script>\n",
              "</div>\n",
              "\n",
              "  <div id=\"id_56b222e9-5247-40c8-8d0f-5f2e42e05aeb\">\n",
              "    <style>\n",
              "      .colab-df-generate {\n",
              "        background-color: #E8F0FE;\n",
              "        border: none;\n",
              "        border-radius: 50%;\n",
              "        cursor: pointer;\n",
              "        display: none;\n",
              "        fill: #1967D2;\n",
              "        height: 32px;\n",
              "        padding: 0 0 0 0;\n",
              "        width: 32px;\n",
              "      }\n",
              "\n",
              "      .colab-df-generate:hover {\n",
              "        background-color: #E2EBFA;\n",
              "        box-shadow: 0px 1px 2px rgba(60, 64, 67, 0.3), 0px 1px 3px 1px rgba(60, 64, 67, 0.15);\n",
              "        fill: #174EA6;\n",
              "      }\n",
              "\n",
              "      [theme=dark] .colab-df-generate {\n",
              "        background-color: #3B4455;\n",
              "        fill: #D2E3FC;\n",
              "      }\n",
              "\n",
              "      [theme=dark] .colab-df-generate:hover {\n",
              "        background-color: #434B5C;\n",
              "        box-shadow: 0px 1px 3px 1px rgba(0, 0, 0, 0.15);\n",
              "        filter: drop-shadow(0px 1px 2px rgba(0, 0, 0, 0.3));\n",
              "        fill: #FFFFFF;\n",
              "      }\n",
              "    </style>\n",
              "    <button class=\"colab-df-generate\" onclick=\"generateWithVariable('interview_data')\"\n",
              "            title=\"Generate code using this dataframe.\"\n",
              "            style=\"display:none;\">\n",
              "\n",
              "  <svg xmlns=\"http://www.w3.org/2000/svg\" height=\"24px\"viewBox=\"0 0 24 24\"\n",
              "       width=\"24px\">\n",
              "    <path d=\"M7,19H8.4L18.45,9,17,7.55,7,17.6ZM5,21V16.75L18.45,3.32a2,2,0,0,1,2.83,0l1.4,1.43a1.91,1.91,0,0,1,.58,1.4,1.91,1.91,0,0,1-.58,1.4L9.25,21ZM18.45,9,17,7.55Zm-12,3A5.31,5.31,0,0,0,4.9,8.1,5.31,5.31,0,0,0,1,6.5,5.31,5.31,0,0,0,4.9,4.9,5.31,5.31,0,0,0,6.5,1,5.31,5.31,0,0,0,8.1,4.9,5.31,5.31,0,0,0,12,6.5,5.46,5.46,0,0,0,6.5,12Z\"/>\n",
              "  </svg>\n",
              "    </button>\n",
              "    <script>\n",
              "      (() => {\n",
              "      const buttonEl =\n",
              "        document.querySelector('#id_56b222e9-5247-40c8-8d0f-5f2e42e05aeb button.colab-df-generate');\n",
              "      buttonEl.style.display =\n",
              "        google.colab.kernel.accessAllowed ? 'block' : 'none';\n",
              "\n",
              "      buttonEl.onclick = () => {\n",
              "        google.colab.notebook.generateWithVariable('interview_data');\n",
              "      }\n",
              "      })();\n",
              "    </script>\n",
              "  </div>\n",
              "\n",
              "    </div>\n",
              "  </div>\n"
            ],
            "application/vnd.google.colaboratory.intrinsic+json": {
              "type": "dataframe",
              "variable_name": "interview_data",
              "summary": "{\n  \"name\": \"interview_data\",\n  \"rows\": 2906,\n  \"fields\": [\n    {\n      \"column\": \"Question\",\n      \"properties\": {\n        \"dtype\": \"string\",\n        \"num_unique_values\": 2854,\n        \"samples\": [\n          \"\\ub370\\uc774\\ud130 \\ubd84\\uc11d \\uad00\\ub828 \\uad50\\uc721 \\uc218\\ub8cc \\uacbd\\ud5d8\\uc744 \\uc124\\uba85\\ud574 \\uc8fc\\uc2ed\\uc2dc\\uc624.\",\n          \"Matrix Factorization\\uc740 \\ubb34\\uc5c7\\uc774\\uace0, \\ud574\\ub2f9 \\uc54c\\uace0\\ub9ac\\uc998\\uc758 \\uc7a5\\ub2e8\\uc810\\uc740?\",\n          \"Java vs Python \\uc5d0 \\ub300\\ud574\\uc11c \\uc124\\uba85 \\ud574\\ubcf4\\uc138\\uc694.\"\n        ],\n        \"semantic_type\": \"\",\n        \"description\": \"\"\n      }\n    },\n    {\n      \"column\": \"Category\",\n      \"properties\": {\n        \"dtype\": \"category\",\n        \"num_unique_values\": 5,\n        \"samples\": [\n          \"\\ub370\\uc774\\ud130 \\uc0ac\\uc774\\uc5b8\\ud2f0\\uc2a4\\ud2b8\",\n          \"\\ud504\\ub860\\ud2b8\\uc5d4\\ub4dc\",\n          \"\\ub370\\uc774\\ud130 \\uc5d4\\uc9c0\\ub2c8\\uc5b4\"\n        ],\n        \"semantic_type\": \"\",\n        \"description\": \"\"\n      }\n    }\n  ]\n}"
            }
          },
          "metadata": {},
          "execution_count": 40
        }
      ]
    },
    {
      "cell_type": "code",
      "source": [
        "!pip install konlpy\n",
        "from konlpy.tag import Okt #konlpy의 Okt 형태소 분석기를 받아온 후 문장이 들어오면 어근을 분리하는 함수 생성, konlpy패키지 별도 설치 필요\n",
        "\n",
        "\n",
        "okt=Okt()\n",
        "def okt_tokenizer(sentence):\n",
        "    okt_token=okt.morphs(sentence) #.morphs로 텍스트를 형태소 단위로 나눈다\n",
        "    return okt_token\n"
      ],
      "metadata": {
        "colab": {
          "base_uri": "https://localhost:8080/"
        },
        "id": "eoDo3LdPRvDI",
        "outputId": "f208892d-c1dc-4a27-c62d-cd954dbb3717"
      },
      "execution_count": null,
      "outputs": [
        {
          "output_type": "stream",
          "name": "stdout",
          "text": [
            "Requirement already satisfied: konlpy in /usr/local/lib/python3.11/dist-packages (0.6.0)\n",
            "Requirement already satisfied: JPype1>=0.7.0 in /usr/local/lib/python3.11/dist-packages (from konlpy) (1.5.2)\n",
            "Requirement already satisfied: lxml>=4.1.0 in /usr/local/lib/python3.11/dist-packages (from konlpy) (5.3.1)\n",
            "Requirement already satisfied: numpy>=1.6 in /usr/local/lib/python3.11/dist-packages (from konlpy) (1.26.4)\n",
            "Requirement already satisfied: packaging in /usr/local/lib/python3.11/dist-packages (from JPype1>=0.7.0->konlpy) (24.2)\n"
          ]
        }
      ]
    },
    {
      "cell_type": "code",
      "source": [
        "question_cleasinged=interview_data['Question'].values.astype('str') #면접 질문 데이터(interview_data)의 question컬럼의 데이터 타입을 str로 변경"
      ],
      "metadata": {
        "id": "A4qVg30KSFoh"
      },
      "execution_count": null,
      "outputs": []
    },
    {
      "cell_type": "code",
      "source": [
        "question_cleasinged"
      ],
      "metadata": {
        "colab": {
          "base_uri": "https://localhost:8080/"
        },
        "id": "IjlOGfeQSIJv",
        "outputId": "5bca27d0-587b-40fc-e95d-eb1bf3f37581"
      },
      "execution_count": null,
      "outputs": [
        {
          "output_type": "execute_result",
          "data": {
            "text/plain": [
              "array(['A/B Test 등 현상 분석 및 실험 설계 상 통계적으로 유의미함의 여부를 결정하기 위한 방법에는 어떤 것이 있을까요?',\n",
              "       'Agile 방법론이 무엇인지 설명해주세요', 'Bias를 통제하는 방법은 무엇입니까?', ...,\n",
              "       '웹 저장소의 종류와 특징을 설명해 보세요.', '웹 워커에 대해서 말해주세요.',\n",
              "       '웹 컴포넌트에 대해 말씀해주세요.'], dtype='<U192')"
            ]
          },
          "metadata": {},
          "execution_count": 43
        }
      ]
    },
    {
      "cell_type": "code",
      "source": [
        "#불용어 처리\n",
        "stop_words=pd.read_csv('/content/drive/MyDrive/Colab Notebooks/KHUDA_7th_YB_ToyProject/data/korean_stopwords.txt') #불용어 처리를 위해 korean_stopwords.txt의 파일을 불러온다.\n",
        "stop_words_interview=stop_words['불용어'].tolist() #불용어 리스트를 생성"
      ],
      "metadata": {
        "id": "sNxu9ADxSJYT"
      },
      "execution_count": null,
      "outputs": []
    },
    {
      "cell_type": "code",
      "source": [
        "from sklearn.feature_extraction.text import TfidfVectorizer #Tfidf벡터화를 통해 각각의 어근을 피쳐로 갖는 희소행렬을 생성, stop_words 파라미터를 통해 불용어 제거\n",
        "\n",
        "tfidf=TfidfVectorizer(tokenizer=okt_tokenizer,ngram_range=(1,2),stop_words=stop_words_interview ,lowercase=False,) #파라미터는 추후 모델 성능을 비교하며 조정\n",
        "tfidf.fit(question_cleasinged)\n",
        "tfidf_interview_data=tfidf.transform(question_cleasinged)\n",
        "tfidf_interview_data"
      ],
      "metadata": {
        "colab": {
          "base_uri": "https://localhost:8080/"
        },
        "id": "iVTnhGs7SRVR",
        "outputId": "d2ca227f-2ad1-407e-b87d-b9514ce3b7e4"
      },
      "execution_count": null,
      "outputs": [
        {
          "output_type": "stream",
          "name": "stderr",
          "text": [
            "/usr/local/lib/python3.11/dist-packages/sklearn/feature_extraction/text.py:517: UserWarning: The parameter 'token_pattern' will not be used since 'tokenizer' is not None'\n",
            "  warnings.warn(\n",
            "/usr/local/lib/python3.11/dist-packages/sklearn/feature_extraction/text.py:402: UserWarning: Your stop_words may be inconsistent with your preprocessing. Tokenizing the stop words generated tokens ['\\t', '가서', '각하', '간', '같다면', '같은', '같이', '거나', '걸', '견지', '결론', '고려', '곳', '공동', '관', '관계', '관련', '구체', '그러한', '그런', '그럼에도', '그렇게', '그치지', '근거', '기대', '기점', '기준', '김', '까닭', '나머지', '남', '낫다', '낼', '년도', '누가', '다', '다시', '달려', '답', '대로', '대하', '더', '더욱이', '도', '동시', '됏', '되는', '되다', '되면', '되어', '된', '된다', '될것이다', '두번째', '뒤', '든', '든지', '들면', '들자면', '듯', '따르는', '따름', '때문', '라', '라도', '라면', '리하', '마자', '막론', '만', '만으로', '만은', '만이', '만큼', '만하', '많은', '말', '면', '모른다', '몰라도', '몰랏다', '못', '바', '바꿔', '밖에', '반대', '방면', '번째', '보다', '보아', '본대', '불구', '비', '비교', '비길수', '비추어', '뿐', '상대', '서', '서술', '수', '시작', '시초', '쓰여', '아니다', '아니라', '아래', '아무', '안', '안다', '안된다', '않기', '않는다면', '않다', '않다면', '않도록', '않으면', '알', '알겠는가', '앞', '어쨋', '어쩔', '어찌됏', '없다', '에도', '에야', '연', '연관', '와같이', '외', '요만', '위', '위해', '윗', '은', '의거', '의지', '이다', '이러', '이러하다', '이럴', '이렇게', '이로', '이서', '이어', '이외', '이용', '이유', '인', '인하여', '일반', '일지', '입', '입장', '적', '점', '정도', '제외', '젠', '좋다', '줄', '즈음', '지', '쪽', '첫', '켠으로는', '큼', '통', '편이', '하게', '하고', '하기', '하는', '하다', '하도록', '하든', '하면', '하여', '하자', '하자면', '하지', '한', '한다', '한적', '할', '할수록', '함', '항목', '해', '해도', '해서', '해서는', '해야', '해주세요', '향', '형식', '후', '힘'] not in stop_words.\n",
            "  warnings.warn(\n"
          ]
        },
        {
          "output_type": "execute_result",
          "data": {
            "text/plain": [
              "<2906x14483 sparse matrix of type '<class 'numpy.float64'>'\n",
              "\twith 46189 stored elements in Compressed Sparse Row format>"
            ]
          },
          "metadata": {},
          "execution_count": 45
        }
      ]
    },
    {
      "cell_type": "code",
      "source": [
        "tfidf_interview_data.toarray()"
      ],
      "metadata": {
        "colab": {
          "base_uri": "https://localhost:8080/"
        },
        "id": "HJStacx6SYzq",
        "outputId": "e5c47ca4-5492-464e-816a-909e13def9d8"
      },
      "execution_count": null,
      "outputs": [
        {
          "output_type": "execute_result",
          "data": {
            "text/plain": [
              "array([[0., 0., 0., ..., 0., 0., 0.],\n",
              "       [0., 0., 0., ..., 0., 0., 0.],\n",
              "       [0., 0., 0., ..., 0., 0., 0.],\n",
              "       ...,\n",
              "       [0., 0., 0., ..., 0., 0., 0.],\n",
              "       [0., 0., 0., ..., 0., 0., 0.],\n",
              "       [0., 0., 0., ..., 0., 0., 0.]])"
            ]
          },
          "metadata": {},
          "execution_count": 46
        }
      ]
    },
    {
      "cell_type": "code",
      "source": [],
      "metadata": {
        "id": "uyzV_PpbSslV"
      },
      "execution_count": null,
      "outputs": []
    },
    {
      "cell_type": "markdown",
      "source": [
        "#키워드 전처리"
      ],
      "metadata": {
        "id": "OH0F9hcmS-U8"
      }
    },
    {
      "cell_type": "code",
      "source": [
        "keyword_cleasinged = [str(keyword)]\n",
        "print(keyword_cleasinged)\n",
        "print(okt_tokenizer(keyword))"
      ],
      "metadata": {
        "colab": {
          "base_uri": "https://localhost:8080/"
        },
        "id": "YWl3nceeS_bw",
        "outputId": "0ec5e93b-488b-498e-958f-e911d00abe46"
      },
      "execution_count": null,
      "outputs": [
        {
          "output_type": "stream",
          "name": "stdout",
          "text": [
            "['LSTM과 곡선  함수 커브 SVM 텍스트 딥러닝']\n",
            "['LSTM', '과', '곡선', '함수', '커브', 'SVM', '텍스트', '딥', '러닝']\n"
          ]
        }
      ]
    },
    {
      "cell_type": "code",
      "source": [
        "tfidf_keyword_data=tfidf.transform(keyword_cleasinged)\n",
        "print(\"tfidf_keyword_data.shape : \", tfidf_keyword_data.shape)\n",
        "print(\"tfidf_keyword_data.toarray() : \", tfidf_keyword_data.toarray())"
      ],
      "metadata": {
        "colab": {
          "base_uri": "https://localhost:8080/"
        },
        "id": "9iGmR2w7TAUL",
        "outputId": "06b9e0a2-4919-48bf-fe03-040f13128b5b"
      },
      "execution_count": null,
      "outputs": [
        {
          "output_type": "stream",
          "name": "stdout",
          "text": [
            "tfidf_keyword_data.shape :  (1, 14483)\n",
            "tfidf_keyword_data.toarray() :  [[0. 0. 0. ... 0. 0. 0.]]\n"
          ]
        }
      ]
    },
    {
      "cell_type": "markdown",
      "source": [
        "#키워드 모델 학습"
      ],
      "metadata": {
        "id": "QiuY7i7dTW3-"
      }
    },
    {
      "cell_type": "code",
      "source": [
        "#svm 모델 불러오기\n",
        "import pickle\n",
        "\n",
        "with open(\"/content/drive/MyDrive/Colab Notebooks/KHUDA_7th_YB_ToyProject/modeling/best_svm_model.pkl\", \"rb\") as f:\n",
        "    loaded_svm = pickle.load(f)"
      ],
      "metadata": {
        "id": "xOT5GmOsTYEB"
      },
      "execution_count": null,
      "outputs": []
    },
    {
      "cell_type": "code",
      "source": [
        "y_pred = loaded_svm.predict(tfidf_keyword_data.toarray())\n",
        "print(\"예측 결과:\", y_pred)"
      ],
      "metadata": {
        "colab": {
          "base_uri": "https://localhost:8080/"
        },
        "id": "fgVOE7w3Tbk2",
        "outputId": "d9a7ce99-e349-4eb1-a443-0d022b28131d"
      },
      "execution_count": null,
      "outputs": [
        {
          "output_type": "stream",
          "name": "stdout",
          "text": [
            "예측 결과: [1]\n"
          ]
        },
        {
          "output_type": "stream",
          "name": "stderr",
          "text": [
            "/usr/local/lib/python3.11/dist-packages/sklearn/utils/validation.py:2739: UserWarning: X does not have valid feature names, but SVC was fitted with feature names\n",
            "  warnings.warn(\n"
          ]
        }
      ]
    },
    {
      "cell_type": "code",
      "source": [
        "#해당 분야의 질문만 추출하기\n",
        "# 타겟 값이 3인 데이터의 인덱스 찾기\n",
        "import numpy as np\n",
        "target_data = pd.read_csv(\"/content/drive/MyDrive/Colab Notebooks/KHUDA_7th_YB_ToyProject/data/merge_target.csv\")\n",
        "target_data = target_data[:1453]\n",
        "print(target_data.shape)\n",
        "print(target_data.head())\n",
        "indices = np.where(target_data == y_pred[0])[0]\n",
        "\n",
        "print(\"타겟 값이\",y_pred[0], \"인 데이터의 개수:\", len(indices))\n",
        "print(\"타겟 값이\",y_pred[0], \"인 데이터의 인덱스:\", indices[0],\" ~ \",indices[len(indices)-1])\n",
        "first_index = indices[0]\n",
        "last_index = indices[len(indices)-1]"
      ],
      "metadata": {
        "colab": {
          "base_uri": "https://localhost:8080/"
        },
        "id": "3IwLmXnwUHCB",
        "outputId": "4fac49ed-f1d5-4dd7-c41a-6ad74afb4b52"
      },
      "execution_count": null,
      "outputs": [
        {
          "output_type": "stream",
          "name": "stdout",
          "text": [
            "(1453, 1)\n",
            "   0\n",
            "0  0\n",
            "1  0\n",
            "2  0\n",
            "3  0\n",
            "4  0\n",
            "타겟 값이 1 인 데이터의 개수: 245\n",
            "타겟 값이 1 인 데이터의 인덱스: 140  ~  384\n"
          ]
        }
      ]
    },
    {
      "cell_type": "code",
      "source": [
        "from sklearn.preprocessing import LabelEncoder\n",
        "interview_data=get_df('/content/drive/MyDrive/Colab Notebooks/KHUDA_7th_YB_ToyProject/data/merged_interniew_category.xlsx')\n",
        "category=interview_data['Category'].values\n",
        "# LabelEncoder를 객체로 생성한 후 , fit( ) 과 transform( ) 으로 label 인코딩 수행.\n",
        "encoder = LabelEncoder()\n",
        "encoder.fit(category)#학습\n",
        "category_encoded = encoder.transform(category)#숫자로 변환\n",
        "print('인코딩 변환값:',category_encoded)\n",
        "interview_data['Category'].value_counts().index\n",
        "print('인코딩 클래스:',encoder.classes_)\n",
        "print('디코딩 원본 값:',encoder.inverse_transform([0,1,2,3,4]))\n",
        "def category_encoding(df, category_index): #입력값으로 데이터 프레임과 인코딩할 컬럼의 인덱스를 받는다.\n",
        "    category=df.iloc[:,category_index].values\n",
        "    encoder = LabelEncoder()\n",
        "    encoder.fit(category)\n",
        "    category_encoded = encoder.transform(category)\n",
        "    return category_encoded\n",
        "interview_data['category_encoded']=category_encoded"
      ],
      "metadata": {
        "colab": {
          "base_uri": "https://localhost:8080/"
        },
        "id": "EwupGwKyWCaN",
        "outputId": "155b5cab-f565-406e-cae6-867a6e194f6f"
      },
      "execution_count": null,
      "outputs": [
        {
          "output_type": "stream",
          "name": "stdout",
          "text": [
            "인코딩 변환값: [0 0 0 ... 4 4 4]\n",
            "인코딩 클래스: ['데이터 분석가' '데이터 사이언티스트' '데이터 엔지니어' '백엔드' '프론트엔드']\n",
            "디코딩 원본 값: ['데이터 분석가' '데이터 사이언티스트' '데이터 엔지니어' '백엔드' '프론트엔드']\n"
          ]
        }
      ]
    },
    {
      "cell_type": "code",
      "source": [
        "#해당 카테고리 질문들 모음\n",
        "category_data = tfidf_interview_data[first_index:last_index + 1]\n",
        "category_target = pd.DataFrame(category_encoded)[first_index:last_index + 1]\n",
        "print(category_data.shape)\n",
        "print(category_target.shape)"
      ],
      "metadata": {
        "colab": {
          "base_uri": "https://localhost:8080/"
        },
        "id": "UIbcY7Y8UVlh",
        "outputId": "73750317-286e-4738-d3be-03ae8820eb58"
      },
      "execution_count": null,
      "outputs": [
        {
          "output_type": "stream",
          "name": "stdout",
          "text": [
            "(245, 14483)\n",
            "(245, 1)\n"
          ]
        }
      ]
    },
    {
      "cell_type": "code",
      "source": [
        "main_question=interview_data['Question']\n",
        "category_question = interview_data['Question'][first_index : last_index]"
      ],
      "metadata": {
        "id": "H9uQfMFNWQTz"
      },
      "execution_count": null,
      "outputs": []
    },
    {
      "cell_type": "markdown",
      "source": [
        "#유사도측정"
      ],
      "metadata": {
        "id": "l1c09NbBZTQI"
      }
    },
    {
      "cell_type": "code",
      "source": [
        "#면접 질문과 유사도 측정\n",
        "#유사도 측정은 (면접질문 + 분야)로 진행,index 추출\n",
        "import numpy as np\n",
        "from sklearn.metrics.pairwise import cosine_similarity\n",
        "\n",
        "# 키워드와 나머지 문장들의 코사인 유사도 계산\n",
        "cosine_sim_text1 = cosine_similarity(tfidf_keyword_data,category_data).flatten()\n",
        "\n",
        "# 가장 유사한 문장의 인덱스 찾기\n",
        "most_similar_text_index = np.argmax(cosine_sim_text1)  # 가장 높은 유사도를 가진 인덱스\n",
        "\n",
        "# 주어진 텍스트에서 가장 유사한 문장 출력\n",
        "most_similar_text_to_text1 = main_question[most_similar_text_index]\n",
        "\n",
        "print(\"키워드 기준으로 가장 유사한 문장:\", most_similar_text_to_text1)\n",
        "\n",
        "# 해당 문장과 키워드 간의 코사인 유사도 출력\n",
        "cosine_sim_between_texts = cosine_sim_text1[most_similar_text_index]\n",
        "print(\"키워드와 가장 유사한 문장 간의 코사인 유사도:\", cosine_sim_between_texts)"
      ],
      "metadata": {
        "colab": {
          "base_uri": "https://localhost:8080/"
        },
        "id": "JfyP2E5NWF0p",
        "outputId": "babc4329-3313-4da1-aea0-6aa6165af504"
      },
      "execution_count": null,
      "outputs": [
        {
          "output_type": "stream",
          "name": "stdout",
          "text": [
            "키워드 기준으로 가장 유사한 문장: D를 학습할때 G의 Weight을 고정해야 한다. 방법은?\n",
            "키워드와 가장 유사한 문장 간의 코사인 유사도: 0.3936124946535703\n"
          ]
        }
      ]
    },
    {
      "cell_type": "code",
      "source": [
        "#유사도 높은 순으로 나열\n",
        "#면접질문만으로 진행\n",
        "\n",
        "\n",
        "# 유사도가 높은 순으로 정렬된 인덱스 가져오기\n",
        "sorted_indices = np.argsort(cosine_sim_text1)[::-1]  # 내림차순 정렬\n",
        "\n",
        "# 상위 N개 결과 출력 (예: 상위 5개)\n",
        "top_n = 10\n",
        "print(f\"keyword와 가장 유사한 {top_n}개의 문장\")\n",
        "\n",
        "for i in range(top_n):\n",
        "    idx = sorted_indices[i]  # 정렬된 인덱스에서 i번째 가져오기\n",
        "    print(f\"{i+1}. {main_question[idx]} (유사도: {cosine_sim_text1[idx]:.4f})\")"
      ],
      "metadata": {
        "colab": {
          "base_uri": "https://localhost:8080/"
        },
        "id": "m4a6_gAVWTjJ",
        "outputId": "b56d5e12-aa7b-48cd-f983-a6476e85aa32"
      },
      "execution_count": null,
      "outputs": [
        {
          "output_type": "stream",
          "name": "stdout",
          "text": [
            "keyword와 가장 유사한 5개의 문장\n",
            "1. D를 학습할때 G의 Weight을 고정해야 한다. 방법은? (유사도: 0.3936)\n",
            "2. 형상관리란? (유사도: 0.3300)\n",
            "3. 데이터 분석 관련 창업 경험을 설명해주세요. (유사도: 0.2328)\n",
            "4. ROC 커브에 대해 설명해주실 수 있으신가요? (유사도: 0.2207)\n",
            "5. 베이지안과 프리퀀티스트간의 입장차이를 설명해주실 수 있나요? (유사도: 0.2090)\n"
          ]
        }
      ]
    },
    {
      "cell_type": "code",
      "source": [],
      "metadata": {
        "id": "J40Y6ttTXUVU"
      },
      "execution_count": null,
      "outputs": []
    }
  ]
}